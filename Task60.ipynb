{
 "cells": [
  {
   "cell_type": "code",
   "execution_count": 8,
   "metadata": {},
   "outputs": [
    {
     "name": "stdout",
     "output_type": "stream",
     "text": [
      "Fees after debt:  29820.0\n",
      "Fees After Debt:  49700.0\n"
     ]
    }
   ],
   "source": [
    "class Student:\n",
    "    __Debt= 0.6 \n",
    "\n",
    "    def __init__(self, name, fees):\n",
    "        self._name = name\n",
    "        self._fees = fees\n",
    "\n",
    "    @property\n",
    "    def fees(self):\n",
    "        tax_amount = self._fees * (Student.__Debt/ 100 ) \n",
    "        return self._fees - tax_amount\n",
    "\n",
    "    @fees.setter\n",
    "    def fees(self, value):\n",
    "        self._fees = value\n",
    "\n",
    "\n",
    "if __name__ == '__main__':\n",
    "    emp = Student('Usama Riaz', 30000)\n",
    "    print(\"Fees after debt: \",emp.fees)\n",
    "    emp.fees = 50000\n",
    "    print(\"Fees After Debt: \",emp.fees)"
   ]
  },
  {
   "cell_type": "code",
   "execution_count": null,
   "metadata": {},
   "outputs": [],
   "source": []
  },
  {
   "cell_type": "code",
   "execution_count": null,
   "metadata": {},
   "outputs": [],
   "source": []
  },
  {
   "cell_type": "code",
   "execution_count": null,
   "metadata": {},
   "outputs": [],
   "source": []
  },
  {
   "cell_type": "code",
   "execution_count": null,
   "metadata": {},
   "outputs": [],
   "source": []
  }
 ],
 "metadata": {
  "kernelspec": {
   "display_name": "Python 3",
   "language": "python",
   "name": "python3"
  },
  "language_info": {
   "codemirror_mode": {
    "name": "ipython",
    "version": 3
   },
   "file_extension": ".py",
   "mimetype": "text/x-python",
   "name": "python",
   "nbconvert_exporter": "python",
   "pygments_lexer": "ipython3",
   "version": "3.7.0"
  }
 },
 "nbformat": 4,
 "nbformat_minor": 2
}
