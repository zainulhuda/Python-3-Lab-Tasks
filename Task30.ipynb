{
 "cells": [
  {
   "cell_type": "code",
   "execution_count": 25,
   "metadata": {},
   "outputs": [
    {
     "name": "stdout",
     "output_type": "stream",
     "text": [
      "\n",
      "\n",
      "{1: 'Pakistan', 2: 'England', 3: 'South-Africa', 4: 'Afghanistan'} \n",
      "\n",
      "{'Name': 'zain', 'ID': '1200-2015'}\n",
      "\n",
      "\n",
      "{1: 'Pakistan', 3: 'South-Africa', 4: 'Afghanistan'}\n",
      "{'Name': 'zain'}\n",
      "{1: 'Pakistan', 3: 'South-Africa', 4: 'Ireland'}\n"
     ]
    }
   ],
   "source": [
    "Country = { 1: \"Pakistan\",  2: \"England\",  3: \"South-Africa\" }\n",
    "Country[4]=\"Afghanistan\"\n",
    "profile = { \"Name\" : \"zain\"}\n",
    "profile[\"ID\"]=\"1200-2015\"\n",
    "print ( \"\\n\")\n",
    "print (Country ,\"\\n\")\n",
    "print (profile)\n",
    "del Country[2]            #Removing\n",
    "del profile[\"ID\"]\n",
    "print ( \"\\n\")\n",
    "print (Country)\n",
    "print (profile)\n",
    "\n",
    "Country[4]=\"Ireland\"            #Changing\n",
    "print (Country)"
   ]
  },
  {
   "cell_type": "code",
   "execution_count": null,
   "metadata": {},
   "outputs": [],
   "source": []
  }
 ],
 "metadata": {
  "kernelspec": {
   "display_name": "Python 3",
   "language": "python",
   "name": "python3"
  },
  "language_info": {
   "codemirror_mode": {
    "name": "ipython",
    "version": 3
   },
   "file_extension": ".py",
   "mimetype": "text/x-python",
   "name": "python",
   "nbconvert_exporter": "python",
   "pygments_lexer": "ipython3",
   "version": "3.7.0"
  }
 },
 "nbformat": 4,
 "nbformat_minor": 2
}
