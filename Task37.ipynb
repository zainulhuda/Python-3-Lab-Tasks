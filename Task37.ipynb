{
 "cells": [
  {
   "cell_type": "code",
   "execution_count": 34,
   "metadata": {},
   "outputs": [
    {
     "name": "stdout",
     "output_type": "stream",
     "text": [
      "{'population': 1000, 'group sizes': [47600, 45600, 20851]}\n",
      "{'products': ['Fanta', 'Sprite', 'Pakola', 'Pepsi', '7up', 'Coca‑Cola'], 'product qtys': [5, 15, 6, 13, 22, 45, 24]}\n"
     ]
    }
   ],
   "source": [
    "dict = {\n",
    "  \"population\": 1000,\n",
    "  \"group sizes\": [47600, 45600, 20851],\n",
    "}\n",
    "print(dict)\n",
    "{'population': 1000, 'group sizes': [47600, 45600, 20851]}\n",
    "product_lists = {\n",
    "  \"products\": [\"Fanta\", \"Sprite\", \"Pakola\",\"Pepsi\", \"7up\", \"Coca‑Cola\" ],\n",
    "  \"product qtys\": [5, 15, 6, 13, 22, 45, 24],\n",
    "}\n",
    "print(product_lists)"
   ]
  },
  {
   "cell_type": "code",
   "execution_count": null,
   "metadata": {},
   "outputs": [],
   "source": []
  },
  {
   "cell_type": "code",
   "execution_count": null,
   "metadata": {},
   "outputs": [],
   "source": []
  }
 ],
 "metadata": {
  "kernelspec": {
   "display_name": "Python 3",
   "language": "python",
   "name": "python3"
  },
  "language_info": {
   "codemirror_mode": {
    "name": "ipython",
    "version": 3
   },
   "file_extension": ".py",
   "mimetype": "text/x-python",
   "name": "python",
   "nbconvert_exporter": "python",
   "pygments_lexer": "ipython3",
   "version": "3.7.0"
  }
 },
 "nbformat": 4,
 "nbformat_minor": 2
}
