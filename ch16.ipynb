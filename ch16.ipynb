{
 "cells": [
  {
   "cell_type": "code",
   "execution_count": 8,
   "metadata": {},
   "outputs": [
    {
     "name": "stdout",
     "output_type": "stream",
     "text": [
      "Bhugati and  MClaren, super fast !\n",
      "Bhugati and itala design, both are  amazing ! \n",
      "Helicopter is not a car :/ \n",
      "['Helicopter', 'Bhugati', 'MClaren', 'Ferrari', 'itala design']\n"
     ]
    }
   ],
   "source": [
    "cars = [ \"Bhugati\", \"MClaren\", \"Ferrari\"]\n",
    "\n",
    "print(str(cars[0]) + \" and  \" + str(cars[1])+\", super fast !\")\n",
    "\n",
    "cars.append(\"itala design\")\n",
    "\n",
    "print(str(cars[0]) + \" and \" + str(cars[3])+\", both are  amazing ! \")\n",
    "\n",
    "cars.insert(0,\"Helicopter\")\n",
    "\n",
    "print(str(cars[0]) +\" is not a car :/ \")\n",
    "\n",
    "print(str(cars))"
   ]
  },
  {
   "cell_type": "code",
   "execution_count": null,
   "metadata": {},
   "outputs": [],
   "source": []
  }
 ],
 "metadata": {
  "kernelspec": {
   "display_name": "Python 3",
   "language": "python",
   "name": "python3"
  },
  "language_info": {
   "codemirror_mode": {
    "name": "ipython",
    "version": 3
   },
   "file_extension": ".py",
   "mimetype": "text/x-python",
   "name": "python",
   "nbconvert_exporter": "python",
   "pygments_lexer": "ipython3",
   "version": "3.7.0"
  }
 },
 "nbformat": 4,
 "nbformat_minor": 2
}
