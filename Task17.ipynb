{
 "cells": [
  {
   "cell_type": "code",
   "execution_count": 1,
   "metadata": {},
   "outputs": [
    {
     "name": "stdout",
     "output_type": "stream",
     "text": [
      "['Cricket', 'Snooker', 'Nihari', 'Biryani', 'Karahi', 'Salad', 'Kabab', 'Polaow']\n",
      "\n",
      "\n",
      "['Nihari', 'Biryani', 'Karahi', 'Salad', 'Kabab', 'Polaow']\n"
     ]
    },
    {
     "data": {
      "text/plain": [
       "['Nihari', 'Biryani', 'Karahi', 'Salad', 'Kabab', 'Polaow']"
      ]
     },
     "execution_count": 1,
     "metadata": {},
     "output_type": "execute_result"
    }
   ],
   "source": [
    "Random = [ \"Cricket\",\"Snooker\", \"Nihari\", \"Biryani\", \"Karahi\", \"Salad\", \"Kabab\", \"Polaow\" ]\n",
    "print(str(Random))\n",
    "\n",
    "list_of_foods = Random[2:8]\n",
    "print(\"\\n\")\n",
    "print(str(list_of_foods))\n",
    "['Cricket', 'Snooker', 'Nihari', 'Biryani', 'Karahi', 'Salad', 'Kabab', 'Polaow']\n",
    "\n",
    "\n",
    "['Nihari', 'Biryani', 'Karahi', 'Salad', 'Kabab', 'Polaow']"
   ]
  },
  {
   "cell_type": "code",
   "execution_count": null,
   "metadata": {},
   "outputs": [],
   "source": []
  }
 ],
 "metadata": {
  "kernelspec": {
   "display_name": "Python 3",
   "language": "python",
   "name": "python3"
  },
  "language_info": {
   "codemirror_mode": {
    "name": "ipython",
    "version": 3
   },
   "file_extension": ".py",
   "mimetype": "text/x-python",
   "name": "python",
   "nbconvert_exporter": "python",
   "pygments_lexer": "ipython3",
   "version": "3.7.0"
  }
 },
 "nbformat": 4,
 "nbformat_minor": 2
}
