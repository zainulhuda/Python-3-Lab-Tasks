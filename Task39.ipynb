{
 "cells": [
  {
   "cell_type": "code",
   "execution_count": 40,
   "metadata": {},
   "outputs": [
    {
     "name": "stdout",
     "output_type": "stream",
     "text": [
      "[{'customer id': 0, 'first name': 'Zain', 'last name': 'Ul Huda', 'address': 'Nazimabad'}, {'customer id': 2, 'first name': 'Kamran', 'last name': 'Jameel', 'address': 'Qasba Colony'}]\n"
     ]
    }
   ],
   "source": [
    "customers = [\n",
    "    {\n",
    "         \"customer id\": 0,\n",
    "         \"first name\":\"Zain\",\n",
    "         \"last name\": \"Ul Huda\",\n",
    "         \"address\": \"Nazimabad\", \n",
    "    },\n",
    "\n",
    "    {\n",
    "        \"customer id\": 2, \n",
    "        \"first name\":\"Kamran\",\n",
    "        \"last name\": \"Jameel\",\n",
    "        \"address\": \"Qasba Colony\", \n",
    "    },]\n",
    "\n",
    "print(str(customers))"
   ]
  },
  {
   "cell_type": "code",
   "execution_count": null,
   "metadata": {},
   "outputs": [],
   "source": []
  },
  {
   "cell_type": "code",
   "execution_count": null,
   "metadata": {},
   "outputs": [],
   "source": []
  }
 ],
 "metadata": {
  "kernelspec": {
   "display_name": "Python 3",
   "language": "python",
   "name": "python3"
  },
  "language_info": {
   "codemirror_mode": {
    "name": "ipython",
    "version": 3
   },
   "file_extension": ".py",
   "mimetype": "text/x-python",
   "name": "python",
   "nbconvert_exporter": "python",
   "pygments_lexer": "ipython3",
   "version": "3.7.0"
  }
 },
 "nbformat": 4,
 "nbformat_minor": 2
}
