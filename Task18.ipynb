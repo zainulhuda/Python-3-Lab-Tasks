{
 "cells": [
  {
   "cell_type": "code",
   "execution_count": 5,
   "metadata": {},
   "outputs": [
    {
     "name": "stdout",
     "output_type": "stream",
     "text": [
      "['Cricket ', 'Snooker ', 'Nihari', 'Biryani', 'Karahi', 'Salad', 'Kabab', 'Polaow']\n",
      "Cricket Snooker \n"
     ]
    },
    {
     "data": {
      "text/plain": [
       "['Cricket ',\n",
       " 'Snooker ',\n",
       " 'Nihari',\n",
       " 'Biryani',\n",
       " 'Karahi',\n",
       " 'Salad',\n",
       " 'Kabab',\n",
       " 'Polaow']"
      ]
     },
     "execution_count": 5,
     "metadata": {},
     "output_type": "execute_result"
    }
   ],
   "source": [
    "Random = [ \"Cricket \",\"Snooker \", \"Nihari\", \"Biryani\", \"Karahi\", \"Salad\", \"Kabab\", \"Polaow\" ]\n",
    "print(str(Random))\n",
    "\n",
    "\n",
    "new_List = Random.pop(0) + Random.pop(0) \n",
    "\n",
    "print(new_List)\n",
    "['Cricket ', 'Snooker ', 'Nihari', 'Biryani', 'Karahi', 'Salad', 'Kabab', 'Polaow']"
   ]
  },
  {
   "cell_type": "code",
   "execution_count": null,
   "metadata": {},
   "outputs": [],
   "source": []
  }
 ],
 "metadata": {
  "kernelspec": {
   "display_name": "Python 3",
   "language": "python",
   "name": "python3"
  },
  "language_info": {
   "codemirror_mode": {
    "name": "ipython",
    "version": 3
   },
   "file_extension": ".py",
   "mimetype": "text/x-python",
   "name": "python",
   "nbconvert_exporter": "python",
   "pygments_lexer": "ipython3",
   "version": "3.7.0"
  }
 },
 "nbformat": 4,
 "nbformat_minor": 2
}
