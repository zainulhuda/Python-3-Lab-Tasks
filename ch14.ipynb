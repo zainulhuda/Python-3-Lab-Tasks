{
 "cells": [
  {
   "cell_type": "code",
   "execution_count": 2,
   "metadata": {},
   "outputs": [
    {
     "name": "stdout",
     "output_type": "stream",
     "text": [
      "python follow precedence rules\n",
      "3.75\n",
      "4.25\n",
      "3.25\n"
     ]
    }
   ],
   "source": [
    "#addition will take place after division and multiplication\n",
    "x = (2 + 3) * 3 / 4\n",
    "\n",
    "#addition will take place after division and multiplication\n",
    "y = 2 + 3 * 3 / 4\n",
    "\n",
    "#addition will take place after division and multiplication\n",
    "z = 1 + (3 * 3) / 4\n",
    "\n",
    "#The statement should produce the result as:\n",
    "print(\"python follow precedence rules\");\n",
    "\n",
    "print(x)\n",
    "print(y)\n",
    "print(z)\n",
    "\n"
   ]
  },
  {
   "cell_type": "code",
   "execution_count": null,
   "metadata": {},
   "outputs": [],
   "source": []
  }
 ],
 "metadata": {
  "kernelspec": {
   "display_name": "Python 3",
   "language": "python",
   "name": "python3"
  },
  "language_info": {
   "codemirror_mode": {
    "name": "ipython",
    "version": 3
   },
   "file_extension": ".py",
   "mimetype": "text/x-python",
   "name": "python",
   "nbconvert_exporter": "python",
   "pygments_lexer": "ipython3",
   "version": "3.7.0"
  }
 },
 "nbformat": 4,
 "nbformat_minor": 2
}
