{
 "cells": [
  {
   "cell_type": "code",
   "execution_count": 6,
   "metadata": {},
   "outputs": [
    {
     "name": "stdout",
     "output_type": "stream",
     "text": [
      "Name :  Umair , Salary:  100000 , Age:  21\n",
      "Name :  Shahbaz , Salary:  100000 , Age:  22\n",
      "Total Employee 3\n"
     ]
    }
   ],
   "source": [
    "class Employee():\n",
    "    empCount = 0\n",
    "    \n",
    "    def __init__(self, name, salary, age):\n",
    "        self.name = name\n",
    "        self.salary = salary\n",
    "        self.age = age\n",
    "        Employee.empCount += 1\n",
    "   \n",
    "    def displayCount(self):\n",
    "        print (\"Total Employee %d\" % Employee.empCount)\n",
    "    \n",
    "    def displayEmployee(self):\n",
    "        print (\"Name : \", self.name,  \", Salary: \", self.salary, \", Age: \", self.age)\n",
    "        \n",
    "emp1 = Employee(\"Umair\", 100000,21)\n",
    "emp2 = Employee(\"Asad\", 100000,22)\n",
    "emp2 = Employee(\"Shahbaz\", 100000,22)\n",
    "\n",
    "emp1.displayEmployee()\n",
    "emp2.displayEmployee()\n",
    "print (\"Total Employee %d\" % Employee.empCount)"
   ]
  },
  {
   "cell_type": "code",
   "execution_count": null,
   "metadata": {},
   "outputs": [],
   "source": []
  },
  {
   "cell_type": "code",
   "execution_count": null,
   "metadata": {},
   "outputs": [],
   "source": []
  },
  {
   "cell_type": "code",
   "execution_count": null,
   "metadata": {},
   "outputs": [],
   "source": []
  },
  {
   "cell_type": "code",
   "execution_count": null,
   "metadata": {},
   "outputs": [],
   "source": []
  }
 ],
 "metadata": {
  "kernelspec": {
   "display_name": "Python 3",
   "language": "python",
   "name": "python3"
  },
  "language_info": {
   "codemirror_mode": {
    "name": "ipython",
    "version": 3
   },
   "file_extension": ".py",
   "mimetype": "text/x-python",
   "name": "python",
   "nbconvert_exporter": "python",
   "pygments_lexer": "ipython3",
   "version": "3.7.0"
  }
 },
 "nbformat": 4,
 "nbformat_minor": 2
}
