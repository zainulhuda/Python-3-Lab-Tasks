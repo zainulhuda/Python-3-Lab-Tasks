{
 "cells": [
  {
   "cell_type": "code",
   "execution_count": 22,
   "metadata": {},
   "outputs": [
    {
     "name": "stdout",
     "output_type": "stream",
     "text": [
      "Pakistan\n",
      "Zain Ul Huda\n",
      "My name is Zain Ul Huda And i am from Pakistan\n"
     ]
    }
   ],
   "source": [
    "Country = { 1: \"Pakistan\",  2: \"England\",  3: \"South-Africa\" }\n",
    "\n",
    "print (Country.get(1))\n",
    "\n",
    "profile = { \"Name\" : \"Zain Ul Huda\"}\n",
    "print (profile.get(\"Name\"))\n",
    "\n",
    "print (\"My name is \"+profile.get(\"Name\")+\" And i am from \"+Country.get(1))"
   ]
  },
  {
   "cell_type": "code",
   "execution_count": null,
   "metadata": {},
   "outputs": [],
   "source": []
  }
 ],
 "metadata": {
  "kernelspec": {
   "display_name": "Python 3",
   "language": "python",
   "name": "python3"
  },
  "language_info": {
   "codemirror_mode": {
    "name": "ipython",
    "version": 3
   },
   "file_extension": ".py",
   "mimetype": "text/x-python",
   "name": "python",
   "nbconvert_exporter": "python",
   "pygments_lexer": "ipython3",
   "version": "3.7.0"
  }
 },
 "nbformat": 4,
 "nbformat_minor": 2
}
