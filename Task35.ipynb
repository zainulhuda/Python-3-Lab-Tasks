{
 "cells": [
  {
   "cell_type": "code",
   "execution_count": 32,
   "metadata": {},
   "outputs": [
    {
     "name": "stdout",
     "output_type": "stream",
     "text": [
      "Zain Ul Huda\n"
     ]
    }
   ],
   "source": [
    "Students = [\n",
    "    {\n",
    "    \"Students_ID\" : 0,\n",
    "    \"Name\" : \"Sohail\",\n",
    "    \"Last_Name\" : \"Khan\",\n",
    "    },\n",
    "      {\n",
    "    \"Students_ID\" : 1,\n",
    "    \"Name\" : \"Shakeel\",\n",
    "    \"Last_Name\" : \"Hiader\",\n",
    "    },                                  #Creating a list of dictionaries\n",
    "      {\n",
    "    \"Students_ID\" : 2,\n",
    "    \"Name\" : \"Usama\",\n",
    "    \"Last_Name\" : \"Bin Riaz\",\n",
    "    },\n",
    "      {\n",
    "    \"Students_ID\" : 3,             \n",
    "    \"Name\" : \"Zain Ul Huda\",\n",
    "    \"Last_Name\" : \"Khan\",\n",
    "    },\n",
    "                                         #How to pick information out of a list of dictionaries\n",
    "]\n",
    "\n",
    "search = Students[3]\n",
    "Search_Name= search[\"Name\"]\n",
    "print(Search_Name)"
   ]
  },
  {
   "cell_type": "code",
   "execution_count": null,
   "metadata": {},
   "outputs": [],
   "source": []
  },
  {
   "cell_type": "code",
   "execution_count": null,
   "metadata": {},
   "outputs": [],
   "source": []
  }
 ],
 "metadata": {
  "kernelspec": {
   "display_name": "Python 3",
   "language": "python",
   "name": "python3"
  },
  "language_info": {
   "codemirror_mode": {
    "name": "ipython",
    "version": 3
   },
   "file_extension": ".py",
   "mimetype": "text/x-python",
   "name": "python",
   "nbconvert_exporter": "python",
   "pygments_lexer": "ipython3",
   "version": "3.7.0"
  }
 },
 "nbformat": 4,
 "nbformat_minor": 2
}
