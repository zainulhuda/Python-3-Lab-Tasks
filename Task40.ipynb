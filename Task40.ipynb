{
 "cells": [
  {
   "cell_type": "code",
   "execution_count": 41,
   "metadata": {},
   "outputs": [
    {
     "name": "stdout",
     "output_type": "stream",
     "text": [
      "{'First name': 'Zain', 'Middle name': 'Ul', 'Last name': 'Huda', 'Address': 'Nazimaabd'}\n",
      "{'First Name': 'Kaman', 'Middle name': 'fitrul', 'Last Name': 'Jameel', 'Address': 'Baldistan'}\n"
     ]
    }
   ],
   "source": [
    "customers = {\n",
    "  0:  {\n",
    "         \"First name\":\"Zain\",\n",
    "         \"Middle name\": \"Ul\",\n",
    "         \"Last name\": \"Huda\",\n",
    "         \"Address\": \"Nazimaabd\", \n",
    "    },\n",
    " 1:  {\n",
    "        \"First Name\":\"Kaman\",\n",
    "      \"Middle name\": \"fitrul\",\n",
    "        \"Last Name\": \"Jameel\",\n",
    "        \"Address\": \"Baldistan\", \n",
    "    },\n",
    "}\n",
    "print(customers[0])\n",
    "print(customers[1])"
   ]
  },
  {
   "cell_type": "code",
   "execution_count": null,
   "metadata": {},
   "outputs": [],
   "source": []
  },
  {
   "cell_type": "code",
   "execution_count": null,
   "metadata": {},
   "outputs": [],
   "source": []
  }
 ],
 "metadata": {
  "kernelspec": {
   "display_name": "Python 3",
   "language": "python",
   "name": "python3"
  },
  "language_info": {
   "codemirror_mode": {
    "name": "ipython",
    "version": 3
   },
   "file_extension": ".py",
   "mimetype": "text/x-python",
   "name": "python",
   "nbconvert_exporter": "python",
   "pygments_lexer": "ipython3",
   "version": "3.7.0"
  }
 },
 "nbformat": 4,
 "nbformat_minor": 2
}
