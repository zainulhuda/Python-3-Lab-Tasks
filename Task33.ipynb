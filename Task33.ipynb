{
 "cells": [
  {
   "cell_type": "code",
   "execution_count": 29,
   "metadata": {},
   "outputs": [
    {
     "name": "stdout",
     "output_type": "stream",
     "text": [
      "[{'Students_ID': '1567-2015', 'Name': 'Sohail', 'Last_Name': 'Khan'}, {'Students_ID': '0011-2015', 'Name': 'Shakeel', 'Last_Name': 'Hiader'}, {'Students_ID': '1010-2015', 'Name': 'Usama', 'Last_Name': 'Bin Riaz'}, {'Students_ID': '1716-2015', 'Name': 'Mehar Ali', 'Last_Name': 'Khan'}]\n"
     ]
    }
   ],
   "source": [
    "Students = [\n",
    "    {\n",
    "    \"Students_ID\" : \"1567-2015\",\n",
    "    \"Name\" : \"Sohail\",\n",
    "    \"Last_Name\" : \"Khan\",\n",
    "    },\n",
    "      {\n",
    "    \"Students_ID\" : \"0011-2015\",\n",
    "    \"Name\" : \"Shakeel\",\n",
    "    \"Last_Name\" : \"Hiader\",\n",
    "    },                                  #Creating a list of dictionaries\n",
    "      {\n",
    "    \"Students_ID\" : \"1010-2015\",\n",
    "    \"Name\" : \"Usama\",\n",
    "    \"Last_Name\" : \"Bin Riaz\",\n",
    "    },\n",
    "      {\n",
    "    \"Students_ID\" : \"1716-2015\",\n",
    "    \"Name\" : \"Mehar Ali\",\n",
    "    \"Last_Name\" : \"Khan\",\n",
    "    },\n",
    "    \n",
    "]\n",
    "print(Students)"
   ]
  },
  {
   "cell_type": "code",
   "execution_count": null,
   "metadata": {},
   "outputs": [],
   "source": []
  }
 ],
 "metadata": {
  "kernelspec": {
   "display_name": "Python 3",
   "language": "python",
   "name": "python3"
  },
  "language_info": {
   "codemirror_mode": {
    "name": "ipython",
    "version": 3
   },
   "file_extension": ".py",
   "mimetype": "text/x-python",
   "name": "python",
   "nbconvert_exporter": "python",
   "pygments_lexer": "ipython3",
   "version": "3.7.0"
  }
 },
 "nbformat": 4,
 "nbformat_minor": 2
}
