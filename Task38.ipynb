{
 "cells": [
  {
   "cell_type": "code",
   "execution_count": 38,
   "metadata": {},
   "outputs": [
    {
     "name": "stdout",
     "output_type": "stream",
     "text": [
      "yes!\n"
     ]
    }
   ],
   "source": [
    "details = {\n",
    "  \"nickname\": \"Zain\",\n",
    "  \"married\": \"no\",\n",
    "  \"careers\": [\"Web Developer\", \"Software Engineer\", \"CEO\"],\n",
    "}\n",
    "if \"Web Developer\" in details[\"careers\"]:\n",
    "  print(\"yes!\")\n",
    "else:\n",
    "  print(\"no\")"
   ]
  },
  {
   "cell_type": "code",
   "execution_count": 39,
   "metadata": {},
   "outputs": [
    {
     "name": "stdout",
     "output_type": "stream",
     "text": [
      "Yes!\n"
     ]
    }
   ],
   "source": [
    "details = {\n",
    "  \"nickname\": \"Zain\",\n",
    "  \"married\": \"yes\",\n",
    "  \"careers\": [\"Web Developer\", \"Web Designer\", \"Singer\", \"Actor\"],\n",
    "}\n",
    "if details[\"married\"] == \"yes\" and \"Web Developer\" in details[\"careers\"]:\n",
    "    print(\"Yes!\")\n",
    "else:\n",
    "    print(\"no\")"
   ]
  },
  {
   "cell_type": "code",
   "execution_count": null,
   "metadata": {},
   "outputs": [],
   "source": []
  }
 ],
 "metadata": {
  "kernelspec": {
   "display_name": "Python 3",
   "language": "python",
   "name": "python3"
  },
  "language_info": {
   "codemirror_mode": {
    "name": "ipython",
    "version": 3
   },
   "file_extension": ".py",
   "mimetype": "text/x-python",
   "name": "python",
   "nbconvert_exporter": "python",
   "pygments_lexer": "ipython3",
   "version": "3.7.0"
  }
 },
 "nbformat": 4,
 "nbformat_minor": 2
}
