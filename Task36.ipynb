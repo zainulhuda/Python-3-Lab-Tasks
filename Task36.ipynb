{
 "cells": [
  {
   "cell_type": "code",
   "execution_count": 33,
   "metadata": {},
   "outputs": [
    {
     "name": "stdout",
     "output_type": "stream",
     "text": [
      "[{'Students_ID': '05-2015', 'Name': 'Kamran', 'Last_Name': 'Jameel'}, {'Students_ID': '1300-2015', 'Name': 'Shoaib', 'Last_Name': 'saeed'}, {'Students_ID': '1010-2015', 'Name': 'Mirza', 'Last_Name': 'Baig'}]\n",
      "\n",
      "[{'Students_ID': '05-2015', 'Name': 'Kamran', 'Last_Name': 'Jameel'}, {'Students_ID': '1300-2015', 'Name': 'Shoaib', 'Last_Name': 'saeed'}, {'Students_ID': '1010-2015', 'Name': 'Mirza', 'Last_Name': 'Baig'}, {'Students_ID': '1200-2015', 'Name': 'Zain', 'Last_Name': 'Ul Huda'}]\n"
     ]
    }
   ],
   "source": [
    "Students = [\n",
    "    {\n",
    "    \"Students_ID\" : \"05-2015\",\n",
    "    \"Name\" : \"Kamran\",\n",
    "    \"Last_Name\" : \"Jameel\",\n",
    "    },\n",
    "      {\n",
    "    \"Students_ID\" : \"1300-2015\",\n",
    "    \"Name\" : \"Shoaib\",\n",
    "    \"Last_Name\" : \"saeed\",\n",
    "    },                                  #Creating a list of dictionaries\n",
    "      {\n",
    "    \"Students_ID\" : \"1010-2015\",\n",
    "    \"Name\" : \"Mirza\",\n",
    "    \"Last_Name\" : \"Baig\",\n",
    "    },\n",
    "    \n",
    "]\n",
    "print (Students)\n",
    "\n",
    "print(\"\")\n",
    "\n",
    "newStudent = {\n",
    "     \"Students_ID\" : \"1200-2015\",\n",
    "    \"Name\" : \"Zain\",\n",
    "    \"Last_Name\" : \"Ul Huda\",\n",
    "      \n",
    "}\n",
    "Students.append(newStudent)                       #Append a new dictionary to a list of dictionaries\n",
    "print (Students)"
   ]
  },
  {
   "cell_type": "code",
   "execution_count": null,
   "metadata": {},
   "outputs": [],
   "source": []
  },
  {
   "cell_type": "code",
   "execution_count": null,
   "metadata": {},
   "outputs": [],
   "source": []
  }
 ],
 "metadata": {
  "kernelspec": {
   "display_name": "Python 3",
   "language": "python",
   "name": "python3"
  },
  "language_info": {
   "codemirror_mode": {
    "name": "ipython",
    "version": 3
   },
   "file_extension": ".py",
   "mimetype": "text/x-python",
   "name": "python",
   "nbconvert_exporter": "python",
   "pygments_lexer": "ipython3",
   "version": "3.7.0"
  }
 },
 "nbformat": 4,
 "nbformat_minor": 2
}
