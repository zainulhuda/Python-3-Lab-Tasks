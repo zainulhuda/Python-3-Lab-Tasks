{
 "cells": [
  {
   "cell_type": "code",
   "execution_count": 5,
   "metadata": {},
   "outputs": [
    {
     "name": "stdout",
     "output_type": "stream",
     "text": [
      "name is correct !!\n",
      "record not found\n"
     ]
    }
   ],
   "source": [
    "S_name = \"Zain\"\n",
    "S_Id = \"1200-2015\";\n",
    "\n",
    "if S_name == \"Zain\":\n",
    "    print(\"name is correct !!\");\n",
    "    if S_Id == \"1300-2015\":\n",
    "        print(\"id found\");\n",
    "    else:\n",
    "        print(\"record not found\");\n",
    "else:\n",
    "    print(\"record not found\");"
   ]
  },
  {
   "cell_type": "code",
   "execution_count": null,
   "metadata": {},
   "outputs": [],
   "source": []
  }
 ],
 "metadata": {
  "kernelspec": {
   "display_name": "Python 3",
   "language": "python",
   "name": "python3"
  },
  "language_info": {
   "codemirror_mode": {
    "name": "ipython",
    "version": 3
   },
   "file_extension": ".py",
   "mimetype": "text/x-python",
   "name": "python",
   "nbconvert_exporter": "python",
   "pygments_lexer": "ipython3",
   "version": "3.7.0"
  }
 },
 "nbformat": 4,
 "nbformat_minor": 2
}
