{
 "cells": [
  {
   "cell_type": "code",
   "execution_count": 23,
   "metadata": {},
   "outputs": [
    {
     "name": "stdout",
     "output_type": "stream",
     "text": [
      "go to doctor!\n"
     ]
    }
   ],
   "source": [
    "z_weight = 70\n",
    "s_weight = 80\n",
    "k_weight = 72\n",
    "\n",
    "z_age = 22\n",
    "s_age = 25\n",
    "k_age = 22\n",
    "\n",
    "if z_weight > 71 and z_age < 25:\n",
    " print(\"join gym!\");\n",
    "elif s_weight > 75 and s_age < 27 or (k_weight <70 and k_age >22):\n",
    " print(\"go to doctor!\")\n",
    "\n"
   ]
  },
  {
   "cell_type": "code",
   "execution_count": null,
   "metadata": {},
   "outputs": [],
   "source": []
  },
  {
   "cell_type": "code",
   "execution_count": null,
   "metadata": {},
   "outputs": [],
   "source": []
  }
 ],
 "metadata": {
  "kernelspec": {
   "display_name": "Python 3",
   "language": "python",
   "name": "python3"
  },
  "language_info": {
   "codemirror_mode": {
    "name": "ipython",
    "version": 3
   },
   "file_extension": ".py",
   "mimetype": "text/x-python",
   "name": "python",
   "nbconvert_exporter": "python",
   "pygments_lexer": "ipython3",
   "version": "3.7.0"
  }
 },
 "nbformat": 4,
 "nbformat_minor": 2
}
