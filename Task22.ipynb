{
 "cells": [
  {
   "cell_type": "code",
   "execution_count": 11,
   "metadata": {},
   "outputs": [
    {
     "name": "stdout",
     "output_type": "stream",
     "text": [
      "['Zain  Ul Huda']\n",
      "['Zain  Ul Huda', 'Zain  Jameel']\n",
      "['Zain  Ul Huda', 'Zain  Jameel', 'Zain  Bloch']\n",
      "['Zain  Ul Huda', 'Zain  Jameel', 'Zain  Bloch', 'Zain  Lakhani']\n",
      "['Zain  Ul Huda', 'Zain  Jameel', 'Zain  Bloch', 'Zain  Lakhani', 'Kamran  Ul Huda']\n",
      "['Zain  Ul Huda', 'Zain  Jameel', 'Zain  Bloch', 'Zain  Lakhani', 'Kamran  Ul Huda', 'Kamran  Jameel']\n",
      "['Zain  Ul Huda', 'Zain  Jameel', 'Zain  Bloch', 'Zain  Lakhani', 'Kamran  Ul Huda', 'Kamran  Jameel', 'Kamran  Bloch']\n",
      "['Zain  Ul Huda', 'Zain  Jameel', 'Zain  Bloch', 'Zain  Lakhani', 'Kamran  Ul Huda', 'Kamran  Jameel', 'Kamran  Bloch', 'Kamran  Lakhani']\n",
      "['Zain  Ul Huda', 'Zain  Jameel', 'Zain  Bloch', 'Zain  Lakhani', 'Kamran  Ul Huda', 'Kamran  Jameel', 'Kamran  Bloch', 'Kamran  Lakhani', 'Shoaib  Ul Huda']\n",
      "['Zain  Ul Huda', 'Zain  Jameel', 'Zain  Bloch', 'Zain  Lakhani', 'Kamran  Ul Huda', 'Kamran  Jameel', 'Kamran  Bloch', 'Kamran  Lakhani', 'Shoaib  Ul Huda', 'Shoaib  Jameel']\n",
      "['Zain  Ul Huda', 'Zain  Jameel', 'Zain  Bloch', 'Zain  Lakhani', 'Kamran  Ul Huda', 'Kamran  Jameel', 'Kamran  Bloch', 'Kamran  Lakhani', 'Shoaib  Ul Huda', 'Shoaib  Jameel', 'Shoaib  Bloch']\n",
      "['Zain  Ul Huda', 'Zain  Jameel', 'Zain  Bloch', 'Zain  Lakhani', 'Kamran  Ul Huda', 'Kamran  Jameel', 'Kamran  Bloch', 'Kamran  Lakhani', 'Shoaib  Ul Huda', 'Shoaib  Jameel', 'Shoaib  Bloch', 'Shoaib  Lakhani']\n",
      "['Zain  Ul Huda', 'Zain  Jameel', 'Zain  Bloch', 'Zain  Lakhani', 'Kamran  Ul Huda', 'Kamran  Jameel', 'Kamran  Bloch', 'Kamran  Lakhani', 'Shoaib  Ul Huda', 'Shoaib  Jameel', 'Shoaib  Bloch', 'Shoaib  Lakhani', 'Mirza  Ul Huda']\n",
      "['Zain  Ul Huda', 'Zain  Jameel', 'Zain  Bloch', 'Zain  Lakhani', 'Kamran  Ul Huda', 'Kamran  Jameel', 'Kamran  Bloch', 'Kamran  Lakhani', 'Shoaib  Ul Huda', 'Shoaib  Jameel', 'Shoaib  Bloch', 'Shoaib  Lakhani', 'Mirza  Ul Huda', 'Mirza  Jameel']\n",
      "['Zain  Ul Huda', 'Zain  Jameel', 'Zain  Bloch', 'Zain  Lakhani', 'Kamran  Ul Huda', 'Kamran  Jameel', 'Kamran  Bloch', 'Kamran  Lakhani', 'Shoaib  Ul Huda', 'Shoaib  Jameel', 'Shoaib  Bloch', 'Shoaib  Lakhani', 'Mirza  Ul Huda', 'Mirza  Jameel', 'Mirza  Bloch']\n",
      "['Zain  Ul Huda', 'Zain  Jameel', 'Zain  Bloch', 'Zain  Lakhani', 'Kamran  Ul Huda', 'Kamran  Jameel', 'Kamran  Bloch', 'Kamran  Lakhani', 'Shoaib  Ul Huda', 'Shoaib  Jameel', 'Shoaib  Bloch', 'Shoaib  Lakhani', 'Mirza  Ul Huda', 'Mirza  Jameel', 'Mirza  Bloch', 'Mirza  Lakhani']\n",
      "['Zain  Ul Huda', 'Zain  Jameel', 'Zain  Bloch', 'Zain  Lakhani', 'Kamran  Ul Huda', 'Kamran  Jameel', 'Kamran  Bloch', 'Kamran  Lakhani', 'Shoaib  Ul Huda', 'Shoaib  Jameel', 'Shoaib  Bloch', 'Shoaib  Lakhani', 'Mirza  Ul Huda', 'Mirza  Jameel', 'Mirza  Bloch', 'Mirza  Lakhani', 'Sajid  Ul Huda']\n",
      "['Zain  Ul Huda', 'Zain  Jameel', 'Zain  Bloch', 'Zain  Lakhani', 'Kamran  Ul Huda', 'Kamran  Jameel', 'Kamran  Bloch', 'Kamran  Lakhani', 'Shoaib  Ul Huda', 'Shoaib  Jameel', 'Shoaib  Bloch', 'Shoaib  Lakhani', 'Mirza  Ul Huda', 'Mirza  Jameel', 'Mirza  Bloch', 'Mirza  Lakhani', 'Sajid  Ul Huda', 'Sajid  Jameel']\n",
      "['Zain  Ul Huda', 'Zain  Jameel', 'Zain  Bloch', 'Zain  Lakhani', 'Kamran  Ul Huda', 'Kamran  Jameel', 'Kamran  Bloch', 'Kamran  Lakhani', 'Shoaib  Ul Huda', 'Shoaib  Jameel', 'Shoaib  Bloch', 'Shoaib  Lakhani', 'Mirza  Ul Huda', 'Mirza  Jameel', 'Mirza  Bloch', 'Mirza  Lakhani', 'Sajid  Ul Huda', 'Sajid  Jameel', 'Sajid  Bloch']\n",
      "['Zain  Ul Huda', 'Zain  Jameel', 'Zain  Bloch', 'Zain  Lakhani', 'Kamran  Ul Huda', 'Kamran  Jameel', 'Kamran  Bloch', 'Kamran  Lakhani', 'Shoaib  Ul Huda', 'Shoaib  Jameel', 'Shoaib  Bloch', 'Shoaib  Lakhani', 'Mirza  Ul Huda', 'Mirza  Jameel', 'Mirza  Bloch', 'Mirza  Lakhani', 'Sajid  Ul Huda', 'Sajid  Jameel', 'Sajid  Bloch', 'Sajid  Lakhani']\n"
     ]
    }
   ],
   "source": [
    "first_names = [\"Zain \", \"Kamran \", \"Shoaib \", \"Mirza \", \"Sajid \"] \n",
    "last_names = [\"Ul Huda\", \"Jameel\", \"Bloch\", \"Lakhani\"] \n",
    "full_names = []   \n",
    "for a_first_name in first_names:  \n",
    "    for a_last_name in last_names:  \n",
    "        full_names.append(a_first_name + \" \" + a_last_name) \n",
    "        print (full_names)"
   ]
  },
  {
   "cell_type": "code",
   "execution_count": null,
   "metadata": {},
   "outputs": [],
   "source": []
  }
 ],
 "metadata": {
  "kernelspec": {
   "display_name": "Python 3",
   "language": "python",
   "name": "python3"
  },
  "language_info": {
   "codemirror_mode": {
    "name": "ipython",
    "version": 3
   },
   "file_extension": ".py",
   "mimetype": "text/x-python",
   "name": "python",
   "nbconvert_exporter": "python",
   "pygments_lexer": "ipython3",
   "version": "3.7.0"
  }
 },
 "nbformat": 4,
 "nbformat_minor": 2
}
